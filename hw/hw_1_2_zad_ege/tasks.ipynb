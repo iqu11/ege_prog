{
 "cells": [
  {
   "cell_type": "markdown",
   "metadata": {},
   "source": [
    "Тут будет показано как я хочу видеть от тебя решения, на тестовом примере:\n",
    "\n",
    "Открой картинку Example.png"
   ]
  },
  {
   "cell_type": "code",
   "execution_count": 1,
   "metadata": {},
   "outputs": [
    {
     "name": "stdout",
     "output_type": "stream",
     "text": [
      "x y z w\n",
      "0 1 0 0\n",
      "1 0 1 0\n",
      "1 1 0 0\n"
     ]
    }
   ],
   "source": [
    "print(\"x y z w\")\n",
    "for x in range(2):\n",
    "    for y in range(2):\n",
    "        for z in range(2):\n",
    "            for w in range(2):\n",
    "                if ( (x or y) and ( not (y == z) ) and (not w) ) == 1: # А почему == 1?\n",
    "                    print(x, y, z, w)"
   ]
  },
  {
   "cell_type": "markdown",
   "metadata": {},
   "source": [
    "Рассмотрим полученные мной строки и столбцы.\n",
    "Вижу следующие фичи:\n",
    "1) В первой строке 1 единица, во второй и третьей по две.\n",
    "2) В третьем столбце 1 единица, в последнем ноль, в первом и втором по 2\n",
    "\n",
    "Очевидно, вторая строка на картинке - это наша первая строка. Как это? По 1 пункту.\n",
    "Следовательно: 2 столбец - Y\n",
    "\n",
    "Очевидно, Второй и третий столбец на картинке - наш первый и второй столбец. Первый столбец на картинке - наш третий столбец. Значит В последнем столбце на картинке все нули. и Это столбцец W\n",
    "Следовательно: 4 столбец - W\n",
    "\n",
    "осталось отличить первый и третий столбец. Но мы вимдим, что в первм столбце у нас 2 единицы, а в третьем - 1. Соответственно я заключаю, что наш первый столбец - тертий у них. А их третий - наш первый.\n",
    "Следовательно: 1 столбец - Z  3 столбец - X\n",
    "\n",
    "Ответ YWXW"
   ]
  }
 ],
 "metadata": {
  "kernelspec": {
   "display_name": "Python 3",
   "language": "python",
   "name": "python3"
  },
  "language_info": {
   "codemirror_mode": {
    "name": "ipython",
    "version": 3
   },
   "file_extension": ".py",
   "mimetype": "text/x-python",
   "name": "python",
   "nbconvert_exporter": "python",
   "pygments_lexer": "ipython3",
   "version": "3.9.6"
  }
 },
 "nbformat": 4,
 "nbformat_minor": 2
}
